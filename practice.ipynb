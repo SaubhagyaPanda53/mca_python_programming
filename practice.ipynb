{
 "cells": [
  {
   "cell_type": "code",
   "execution_count": 2,
   "id": "3c9a8dc2",
   "metadata": {},
   "outputs": [
    {
     "name": "stdout",
     "output_type": "stream",
     "text": [
      "[2, 4, 6, 8, 10]\n"
     ]
    }
   ],
   "source": [
    "# BASIC COMBINATION \n",
    "numbers=[1,2,3,4,5,6,7,8,9,10]\n",
    "even_numbers=[]\n",
    "for num in numbers:\n",
    "    if num % 2 == 0:\n",
    "        even_numbers.append(num)\n",
    "print(even_numbers)"
   ]
  },
  {
   "cell_type": "code",
   "execution_count": 1,
   "id": "975974eb",
   "metadata": {},
   "outputs": [
    {
     "name": "stdout",
     "output_type": "stream",
     "text": [
      "0\n",
      "2\n",
      "4\n",
      "6\n",
      "8\n",
      "0\n",
      "1\n",
      "2\n",
      "3\n",
      "4\n"
     ]
    }
   ],
   "source": [
    "#USING CONTINUE \n",
    "for i in range (10):\n",
    "    if i % 2 != 0:\n",
    "        continue\n",
    "    print(i)\n",
    "for i in range(10):\n",
    "    if i == 5:\n",
    "        break\n",
    "    print(i)        "
   ]
  },
  {
   "cell_type": "markdown",
   "id": "ed3905e4",
   "metadata": {},
   "source": [
    "# nested loops with conditions "
   ]
  },
  {
   "cell_type": "code",
   "execution_count": 2,
   "id": "ae956575",
   "metadata": {},
   "outputs": [
    {
     "name": "stdout",
     "output_type": "stream",
     "text": [
      "diagonal:(0,0)\n",
      "upeer:(0,1)\n",
      "upeer:(0,2)\n",
      "lower:(1,0)\n",
      "diagonal:(1,1)\n",
      "upeer:(1,2)\n",
      "lower:(2,0)\n",
      "lower:(2,1)\n",
      "diagonal:(2,2)\n"
     ]
    }
   ],
   "source": [
    "for i in range(3):\n",
    "    for j in range(3):\n",
    "        if i == j:\n",
    "            print(f\"diagonal:({i},{j})\")\n",
    "        elif i>j:\n",
    "            print(f\"lower:({i},{j})\")\n",
    "        else:\n",
    "            print(f\"upeer:({i},{j})\")\n"
   ]
  },
  {
   "cell_type": "markdown",
   "id": "16209931",
   "metadata": {},
   "source": [
    "# conditional expression in loops "
   ]
  },
  {
   "cell_type": "code",
   "execution_count": 5,
   "id": "9cbd82f5",
   "metadata": {},
   "outputs": [
    {
     "name": "stdout",
     "output_type": "stream",
     "text": [
      "['odd', 'even', 'odd', 'even', 'odd']\n"
     ]
    }
   ],
   "source": [
    "numbers= [1,2,3,4,5]\n",
    "result = [\"even\" if num % 2 == 0 else \"odd\" for num in numbers]\n",
    "print(result)"
   ]
  },
  {
   "cell_type": "markdown",
   "id": "0b3a0ef8",
   "metadata": {},
   "source": [
    "# complex conditions "
   ]
  },
  {
   "cell_type": "code",
   "execution_count": 1,
   "id": "73cef10d",
   "metadata": {},
   "outputs": [
    {
     "name": "stdout",
     "output_type": "stream",
     "text": [
      "Grade 85: good\n",
      "Grade 92: excellent\n",
      "Garde 78: satisfactory\n",
      "Grade 96: excellent\n",
      "Grade 88: good\n"
     ]
    }
   ],
   "source": [
    "grades = [ 85 ,92 ,78 ,96,88]\n",
    "for grade in grades:\n",
    "    if grade>=90:\n",
    "        print(f\"Grade {grade}: excellent\")\n",
    "    elif grade >= 80:\n",
    "        print(f\"Grade {grade}: good\")\n",
    "    elif grade >= 70:\n",
    "        print(f\"Garde {grade}: satisfactory\")\n",
    "    else:\n",
    "        print(f\"Grade {garde}: needs improvent\")"
   ]
  },
  {
   "cell_type": "markdown",
   "id": "970b639b",
   "metadata": {},
   "source": [
    "# looping with multiple conditions "
   ]
  },
  {
   "cell_type": "code",
   "execution_count": null,
   "id": "5cea9033",
   "metadata": {},
   "outputs": [],
   "source": [
    "students = [\n",
    "    {\"name\":\"alice\",\"age\": 20,\"grade\":85},\n",
    "    {\"name\":\"bob\",\"age\":22,\"grade\":92},\n",
    "    {\"name\":\"charlie\",\"age\":19,\"garde\":78}\n",
    "]\n",
    "for students in stundents :\n",
    "    if student [\"age\"] >= 20 and student[\"grade\"]>= 80:\n",
    "        print(f\"{student['name']qualifies for honors}\")\n",
    "    elif student [ \"\"]"
   ]
  }
 ],
 "metadata": {
  "kernelspec": {
   "display_name": "Python 3",
   "language": "python",
   "name": "python3"
  },
  "language_info": {
   "codemirror_mode": {
    "name": "ipython",
    "version": 3
   },
   "file_extension": ".py",
   "mimetype": "text/x-python",
   "name": "python",
   "nbconvert_exporter": "python",
   "pygments_lexer": "ipython3",
   "version": "3.13.6"
  }
 },
 "nbformat": 4,
 "nbformat_minor": 5
}
