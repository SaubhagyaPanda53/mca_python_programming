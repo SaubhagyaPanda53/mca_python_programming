{
 "cells": [
  {
   "cell_type": "code",
   "execution_count": 1,
   "id": "a866ec05",
   "metadata": {},
   "outputs": [
    {
     "name": "stdout",
     "output_type": "stream",
     "text": [
      "<class '__main__.polygon'>\n"
     ]
    }
   ],
   "source": [
    "class polygon():\n",
    "    side=()\n",
    "tringle=polygon()\n",
    "tringle.side=3\n",
    "print(polygon)\n",
    "    "
   ]
  },
  {
   "cell_type": "code",
   "execution_count": 5,
   "id": "2c36ccc5",
   "metadata": {},
   "outputs": [],
   "source": [
    "class Dog:\n",
    "    def __init__(self ,breed,colour,age):\n",
    "        self.breed = breed\n",
    "        self.colour = colour\n",
    "        self.age = age\n",
    "    def show(self):\n",
    "        print(\"The Dog details\")\n",
    "        print(\"breed:\",self.breed)\n",
    "        print(\"age:\",self.age)\n",
    "        print(\"colour:\",self.colour)\n"
   ]
  },
  {
   "cell_type": "code",
   "execution_count": 4,
   "id": "ebefbc11",
   "metadata": {},
   "outputs": [
    {
     "name": "stdout",
     "output_type": "stream",
     "text": [
      "The Dog details\n",
      "breed: German Sephard\n",
      "age: 5\n",
      "colour: Black\n",
      "The Dog details\n",
      "breed: ROBO\n",
      "age: 3\n",
      "colour: Brown\n",
      "The Dog details\n",
      "breed: Husky\n",
      "age: 6\n",
      "colour: Black And White\n",
      "The Dog details\n",
      "breed: Rotwiller\n",
      "age: 7\n",
      "colour: White\n"
     ]
    }
   ],
   "source": [
    "bruno=Dog(\"German Sephard\",\"Black\",5)\n",
    "buddy=Dog(\"ROBO\",\"Brown\",3)\n",
    "sammy=Dog(\"Husky\",\"Black And White\",6)\n",
    "alex=Dog(\"Rotwiller\",\"White\",7)\n",
    "bruno.show()\n",
    "buddy.show()\n",
    "sammy.show()\n",
    "alex.show()"
   ]
  },
  {
   "cell_type": "markdown",
   "id": "dc496414",
   "metadata": {},
   "source": [
    "### HOMEWORK \n",
    " doglist =[ bruno, buddy, sammy, alex]\n",
    " display details of the eldest dog using logic"
   ]
  },
  {
   "cell_type": "code",
   "execution_count": 6,
   "id": "d3cc1451",
   "metadata": {},
   "outputs": [
    {
     "name": "stdout",
     "output_type": "stream",
     "text": [
      "<__main__.Dog object at 0x000001DBAD3BBF00>\n"
     ]
    }
   ],
   "source": [
    "doglist=[bruno,sammy,alex,buddy]\n",
    "age=0\n",
    "eldest_dog=None\n",
    "for dog in doglist:\n",
    "    if age<=dog.age:\n",
    "        age=dog.age\n",
    "        eldest_dog=dog\n",
    "print(eldest_dog)"
   ]
  },
  {
   "cell_type": "code",
   "execution_count": null,
   "id": "156477d2",
   "metadata": {},
   "outputs": [],
   "source": []
  }
 ],
 "metadata": {
  "kernelspec": {
   "display_name": "Python 3",
   "language": "python",
   "name": "python3"
  },
  "language_info": {
   "codemirror_mode": {
    "name": "ipython",
    "version": 3
   },
   "file_extension": ".py",
   "mimetype": "text/x-python",
   "name": "python",
   "nbconvert_exporter": "python",
   "pygments_lexer": "ipython3",
   "version": "3.13.6"
  }
 },
 "nbformat": 4,
 "nbformat_minor": 5
}
