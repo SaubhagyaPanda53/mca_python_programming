{
 "cells": [
  {
   "cell_type": "markdown",
   "id": "7ffbdf35",
   "metadata": {},
   "source": [
    "# COMPREHENSION"
   ]
  },
  {
   "cell_type": "markdown",
   "id": "999dcb5f",
   "metadata": {},
   "source": [
    "write a program to create a new list and store the length of each movie ."
   ]
  },
  {
   "cell_type": "code",
   "execution_count": 5,
   "id": "3901002a",
   "metadata": {},
   "outputs": [
    {
     "name": "stdout",
     "output_type": "stream",
     "text": [
      "['puspha', 'KGF chapter 1', 'silent voice', ' demon slayer infinity castle', 'shizume', 'KGF chapter 2', 'puspha2', 'WAR', 'WAR2', 'coolie', 'water buubles', 'animal', 'wind breaker', 'onepiece', 'naruto']\n",
      "[6, 13, 12, 29, 7, 13, 7, 3, 4, 6, 13, 6, 12, 8, 6]\n"
     ]
    }
   ],
   "source": [
    "movies=['puspha','KGF chapter 1','silent voice',' demon slayer infinity castle','shizume','KGF chapter 2','puspha2','WAR','WAR2',\n",
    "        'coolie','water buubles','animal','wind breaker','onepiece','naruto' ]\n",
    "movielen=[]\n",
    "for movie in movies:\n",
    "    size=len(movie)\n",
    "    movielen.append(size)\n",
    "print(movies)\n",
    "print(movielen)"
   ]
  },
  {
   "cell_type": "code",
   "execution_count": 6,
   "id": "47bf9ada",
   "metadata": {},
   "outputs": [
    {
     "name": "stdout",
     "output_type": "stream",
     "text": [
      "['puspha', 'KGF chapter 1', 'silent voice', ' demon slayer infinity castle', 'shizume', 'KGF chapter 2', 'puspha2', 'WAR', 'WAR2', 'coolie', 'water buubles', 'animal', 'wind breaker', 'onepiece', 'naruto']\n",
      "[6, 13, 12, 29, 7, 13, 7, 3, 4, 6, 13, 6, 12, 8, 6]\n"
     ]
    }
   ],
   "source": [
    "movielen=[len(movie) for movie in movies]\n",
    "print(movies)\n",
    "print(movielen)"
   ]
  },
  {
   "cell_type": "code",
   "execution_count": 7,
   "id": "c206d57c",
   "metadata": {},
   "outputs": [
    {
     "name": "stdout",
     "output_type": "stream",
     "text": [
      "['puspha', 'KGF chapter 1', 'silent voice', ' demon slayer infinity castle', 'shizume', 'KGF chapter 2', 'puspha2', 'WAR', 'WAR2', 'coolie', 'water buubles', 'animal', 'wind breaker', 'onepiece', 'naruto']\n",
      "['PUSPHA', 'KGF CHAPTER 1', 'SILENT VOICE', ' DEMON SLAYER INFINITY CASTLE', 'SHIZUME', 'KGF CHAPTER 2', 'PUSPHA2', 'WAR', 'WAR2', 'COOLIE', 'WATER BUUBLES', 'ANIMAL', 'WIND BREAKER', 'ONEPIECE', 'NARUTO']\n"
     ]
    }
   ],
   "source": [
    "#wap to create a list from movies but with all capital letter \n",
    "movies_caps=[]\n",
    "for movie in movies:\n",
    "    name=movie.upper()\n",
    "    movies_caps.append(name)\n",
    "print(movies)\n",
    "print(movies_caps)"
   ]
  },
  {
   "cell_type": "code",
   "execution_count": 8,
   "id": "f49f7052",
   "metadata": {},
   "outputs": [
    {
     "name": "stdout",
     "output_type": "stream",
     "text": [
      "['puspha', 'KGF chapter 1', 'silent voice', ' demon slayer infinity castle', 'shizume', 'KGF chapter 2', 'puspha2', 'WAR', 'WAR2', 'coolie', 'water buubles', 'animal', 'wind breaker', 'onepiece', 'naruto']\n",
      "['PUSPHA', 'KGF CHAPTER 1', 'SILENT VOICE', ' DEMON SLAYER INFINITY CASTLE', 'SHIZUME', 'KGF CHAPTER 2', 'PUSPHA2', 'WAR', 'WAR2', 'COOLIE', 'WATER BUUBLES', 'ANIMAL', 'WIND BREAKER', 'ONEPIECE', 'NARUTO']\n"
     ]
    }
   ],
   "source": [
    "movies_caps=[movie.upper()for movie in movies]\n",
    "print(movies)\n",
    "print(movies_caps)"
   ]
  },
  {
   "cell_type": "code",
   "execution_count": 10,
   "id": "0646605f",
   "metadata": {},
   "outputs": [
    {
     "name": "stdout",
     "output_type": "stream",
     "text": [
      "['puspha', 'KGF chapter 1', 'silent voice', ' demon slayer infinity castle', 'shizume', 'KGF chapter 2', 'puspha2', 'WAR', 'WAR2', 'coolie', 'water buubles', 'animal', 'wind breaker', 'onepiece', 'naruto']\n",
      "['silent voice', ' demon slayer infinity castle', 'coolie', 'onepiece', 'naruto']\n"
     ]
    }
   ],
   "source": [
    "#filter the movies the contain the char 'o'and store in new list \n",
    "movies_with_o=[]\n",
    "for item in movies:\n",
    "    if 'o' in  item or 'O'in item:\n",
    "       movies_with_o.append(item)\n",
    "print(movies)\n",
    "print(movies_with_o)  "
   ]
  },
  {
   "cell_type": "code",
   "execution_count": 17,
   "id": "604507b6",
   "metadata": {},
   "outputs": [
    {
     "name": "stdout",
     "output_type": "stream",
     "text": [
      "['silent voice', ' demon slayer infinity castle', 'coolie', 'onepiece', 'naruto']\n"
     ]
    }
   ],
   "source": [
    "movies_with_o_e=[nm for nm in movies if 'o' in nm or 'O' in nm]\n",
    "print(movies_with_o_e)"
   ]
  }
 ],
 "metadata": {
  "kernelspec": {
   "display_name": "Python 3",
   "language": "python",
   "name": "python3"
  },
  "language_info": {
   "codemirror_mode": {
    "name": "ipython",
    "version": 3
   },
   "file_extension": ".py",
   "mimetype": "text/x-python",
   "name": "python",
   "nbconvert_exporter": "python",
   "pygments_lexer": "ipython3",
   "version": "3.13.6"
  }
 },
 "nbformat": 4,
 "nbformat_minor": 5
}
