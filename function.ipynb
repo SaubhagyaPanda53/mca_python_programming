{
 "cells": [
  {
   "cell_type": "markdown",
   "id": "ceb7d8a7",
   "metadata": {},
   "source": [
    "### Convenction with creating functions \n",
    "\n",
    " 1) Don't take input inside the function \n",
    " 2) Return the value from the function \n",
    " 3) Use parameter to pass input to fuctions \n",
    " 4) Keep it small and simple "
   ]
  },
  {
   "cell_type": "code",
   "execution_count": 11,
   "id": "90bf7f18",
   "metadata": {},
   "outputs": [
    {
     "name": "stdout",
     "output_type": "stream",
     "text": [
      "50\n"
     ]
    },
    {
     "ename": "TypeError",
     "evalue": "area() missing 2 required positional arguments: 'l' and 'b'",
     "output_type": "error",
     "traceback": [
      "\u001b[31m---------------------------------------------------------------------------\u001b[39m",
      "\u001b[31mTypeError\u001b[39m                                 Traceback (most recent call last)",
      "\u001b[36mCell\u001b[39m\u001b[36m \u001b[39m\u001b[32mIn[11]\u001b[39m\u001b[32m, line 6\u001b[39m\n\u001b[32m      4\u001b[39m ans=area(\u001b[32m10\u001b[39m,\u001b[32m5\u001b[39m)\n\u001b[32m      5\u001b[39m \u001b[38;5;28mprint\u001b[39m(ans)\n\u001b[32m----> \u001b[39m\u001b[32m6\u001b[39m ans1=\u001b[43marea\u001b[49m\u001b[43m(\u001b[49m\u001b[43m)\u001b[49m\n",
      "\u001b[31mTypeError\u001b[39m: area() missing 2 required positional arguments: 'l' and 'b'"
     ]
    }
   ],
   "source": [
    "def area(l,b):\n",
    "    return l*b\n",
    "\n",
    "ans=area(10,5)\n",
    "print(ans)\n",
    "ans1=area()"
   ]
  },
  {
   "cell_type": "code",
   "execution_count": 8,
   "id": "f735f16f",
   "metadata": {},
   "outputs": [
    {
     "name": "stdout",
     "output_type": "stream",
     "text": [
      "65\n"
     ]
    }
   ],
   "source": [
    "res=area(l=5,b=13)\n",
    "print(res)"
   ]
  },
  {
   "cell_type": "code",
   "execution_count": 9,
   "id": "3c28485e",
   "metadata": {},
   "outputs": [],
   "source": [
    "def si(p,r,t):\n",
    "    return p*r*t/100"
   ]
  },
  {
   "cell_type": "code",
   "execution_count": 10,
   "id": "381c6643",
   "metadata": {},
   "outputs": [
    {
     "name": "stdout",
     "output_type": "stream",
     "text": [
      "600.0\n"
     ]
    }
   ],
   "source": [
    "intrest=si(p=10000,r=3,t=2)\n",
    "print(intrest)"
   ]
  },
  {
   "cell_type": "code",
   "execution_count": 11,
   "id": "60bb8850",
   "metadata": {},
   "outputs": [
    {
     "name": "stdout",
     "output_type": "stream",
     "text": [
      "1000\n",
      "100\n"
     ]
    }
   ],
   "source": [
    "def pow(n,e=2):\n",
    "    return n**e\n",
    "print(pow(10,3))\n",
    "print(pow(10))"
   ]
  },
  {
   "cell_type": "code",
   "execution_count": 1,
   "id": "f2cdb78c",
   "metadata": {},
   "outputs": [
    {
     "name": "stdout",
     "output_type": "stream",
     "text": [
      "🌟🌟🌟🌟🌟\n",
      "good morning\n",
      "🌟🌟🌟🌟🌟\n"
     ]
    }
   ],
   "source": [
    "def greating():\n",
    "    print(\"🌟\"*5)\n",
    "    print(\"good morning\")\n",
    "    print(\"🌟\"*5)\n",
    "greating()"
   ]
  },
  {
   "cell_type": "markdown",
   "id": "2046a124",
   "metadata": {},
   "source": [
    "### Values Returning Functions"
   ]
  },
  {
   "cell_type": "code",
   "execution_count": 6,
   "id": "f25ed0b6",
   "metadata": {},
   "outputs": [
    {
     "name": "stdout",
     "output_type": "stream",
     "text": [
      "2️⃣\n",
      "1️⃣\n",
      "6️⃣\n",
      "5️⃣\n",
      "2️⃣\n"
     ]
    }
   ],
   "source": [
    "def dice_roll():\n",
    "    import random\n",
    "    out={1:'1️⃣',2:'2️⃣',3:'3️⃣',4:'4️⃣',5:'5️⃣',6:'6️⃣'}\n",
    "    return out[random.randint(1,6)]\n",
    "print(dice_roll())\n",
    "print(dice_roll())\n",
    "print(dice_roll())\n",
    "print(dice_roll())\n",
    "print(dice_roll())"
   ]
  },
  {
   "cell_type": "code",
   "execution_count": 7,
   "id": "87a5decc",
   "metadata": {},
   "outputs": [
    {
     "name": "stdout",
     "output_type": "stream",
     "text": [
      "False\n",
      "True\n",
      "True\n",
      "False\n"
     ]
    }
   ],
   "source": [
    "def is_valid_password(pwd):\n",
    "    if len(pwd)<8: return False\n",
    "    if not pwd.isalnum(): return False\n",
    "    return True\n",
    "print(is_valid_password(\"Hello\"))\n",
    "print(is_valid_password(\"helloworld\"))        \n",
    "print(is_valid_password(\"helloworld10\"))\n",
    "print(is_valid_password(\"312349@h*3mc\"))\n",
    "\n"
   ]
  },
  {
   "cell_type": "code",
   "execution_count": 8,
   "id": "9263f0ec",
   "metadata": {},
   "outputs": [
    {
     "name": "stdout",
     "output_type": "stream",
     "text": [
      "area=180\n"
     ]
    }
   ],
   "source": [
    "def area(length :int ,breadth:int)-> int:\n",
    "    return length*breadth\n",
    "l=12\n",
    "b=15\n",
    "a=area(l,b)\n",
    "print(f'area={a}')"
   ]
  },
  {
   "cell_type": "code",
   "execution_count": 10,
   "id": "a8af28a7",
   "metadata": {},
   "outputs": [
    {
     "name": "stdout",
     "output_type": "stream",
     "text": [
      "hello world\n",
      "Hello World \n"
     ]
    }
   ],
   "source": [
    "def cleanText(data, to_remove=\"@#%\"):\n",
    "    newdata = data\n",
    "    for char in to_remove:\n",
    "        newdata = newdata.replace(char,\"\")\n",
    "    return newdata\n",
    "cText =cleanText(\"hello@#% world@#%\")\n",
    "print(cText)\n",
    "cText2=cleanText(\"Hello#$% World $%&\", to_remove='#$%^&')\n",
    "print(cText2)"
   ]
  },
  {
   "cell_type": "markdown",
   "id": "c014c6c1",
   "metadata": {},
   "source": [
    "### Lovely Functions"
   ]
  },
  {
   "cell_type": "code",
   "execution_count": 12,
   "id": "23028bca",
   "metadata": {},
   "outputs": [
    {
     "name": "stdout",
     "output_type": "stream",
     "text": [
      "111\n"
     ]
    }
   ],
   "source": [
    "def add100(a,b,c,d,e,f,g,h,i,j,k,l,m,n,o,p,q,r,s,t,u,v,w,x,y,z):\n",
    "    return a+b+c+d+e+f+g+h+i+j+k+l+m+n+o+p+q+r+s+t+u+v+w+x+y+z\n",
    "print(add100(1,2,3,4,5,6,7,8,9,0,1,2,3,4,5,6,7,8,9,0,1,2,3,4,5,6,))"
   ]
  },
  {
   "cell_type": "markdown",
   "id": "5e546cdc",
   "metadata": {},
   "source": [
    "### Variable Argument In Python \n",
    "A function can have variable argument in python using * symbol before a parameter in the function defination . This allow the function to accept any number of posittional argument as tupple "
   ]
  },
  {
   "cell_type": "code",
   "execution_count": 13,
   "id": "0eb15c5c",
   "metadata": {},
   "outputs": [
    {
     "name": "stdout",
     "output_type": "stream",
     "text": [
      "None\n",
      "1\n",
      "65\n"
     ]
    }
   ],
   "source": [
    "def multipiler(*numbers):\n",
    "    result=1\n",
    "    for value in numbers:\n",
    "        result*= value\n",
    "        return result\n",
    "print (multipiler())\n",
    "print (multipiler(1,2,3))\n",
    "print (multipiler(65,674,24,74,34,765,43,4,5,35,6,9,))"
   ]
  },
  {
   "cell_type": "code",
   "execution_count": 21,
   "id": "a6346f58",
   "metadata": {},
   "outputs": [
    {
     "name": "stdout",
     "output_type": "stream",
     "text": [
      "1\n",
      "22\n",
      "Wrong operator given, give + or*\n"
     ]
    }
   ],
   "source": [
    "def operator(*args, operator=\"*\"):\n",
    "    if operator == \"*\":\n",
    "        result= 1\n",
    "        for num in args:\n",
    "            result+num\n",
    "        return result\n",
    "    elif operator == \"+\":\n",
    "        result= 1\n",
    "        for num in args:\n",
    "            result+=num\n",
    "        return result\n",
    "    else:\n",
    "        return\"Wrong operator given, give + or*\"\n",
    "print(operator(1,2,3,4))\n",
    "print(operator(1,3,5,7,5, operator =\"+\"))\n",
    "print(operator(1,3,5,7,5, operator=\"-\"))\n"
   ]
  },
  {
   "cell_type": "markdown",
   "id": "3e7f2043",
   "metadata": {},
   "source": [
    "### Anonymous  Function In Python \n",
    "Anonymous functions , also known as lambda functions , are samll,unnamed functions defined using the lambda keyword.\n",
    "\n",
    "f(x) = x*2 + 10 == lambda x: x*2 + 10"
   ]
  },
  {
   "cell_type": "code",
   "execution_count": 1,
   "id": "1fb716f2",
   "metadata": {},
   "outputs": [
    {
     "name": "stdout",
     "output_type": "stream",
     "text": [
      "<function <lambda> at 0x00000165FD8A5760>\n"
     ]
    }
   ],
   "source": [
    "f = lambda x: x*2 + 10  # X is a parameter here\n",
    "print(f)        #Shows the memory address (not to be used actually)\n"
   ]
  },
  {
   "cell_type": "code",
   "execution_count": 2,
   "id": "79750cfa",
   "metadata": {},
   "outputs": [
    {
     "name": "stdout",
     "output_type": "stream",
     "text": [
      "14\n",
      "20\n",
      "30\n"
     ]
    }
   ],
   "source": [
    "print(f(2))\n",
    "print(f(5))\n",
    "print(f(10))"
   ]
  },
  {
   "cell_type": "code",
   "execution_count": 3,
   "id": "3871da93",
   "metadata": {},
   "outputs": [
    {
     "name": "stdout",
     "output_type": "stream",
     "text": [
      "18\n",
      "65\n"
     ]
    }
   ],
   "source": [
    "g = lambda x,y : x*y + x + 10       # x and y are two parameters\n",
    "print(g(2,3))\n",
    "print(g(5,10))"
   ]
  },
  {
   "cell_type": "markdown",
   "id": "16a2d82b",
   "metadata": {},
   "source": [
    "### Generators or Lazy Functions"
   ]
  },
  {
   "cell_type": "markdown",
   "id": "a13fbd54",
   "metadata": {},
   "source": [
    "# Special type of function that will not evaluate and return all values at once,instead it will return one value at a time , and only when requested."
   ]
  },
  {
   "cell_type": "code",
   "execution_count": 4,
   "id": "7d67e7e8",
   "metadata": {},
   "outputs": [
    {
     "name": "stdout",
     "output_type": "stream",
     "text": [
      "1\n",
      "2\n",
      "3\n",
      "4\n",
      "5\n",
      "[1, 2, 3, 4, 5, 6, 7, 8, 9]\n"
     ]
    }
   ],
   "source": [
    "for i in range(1,6): print(i)\n",
    "\n",
    "print(list(range(1,10)))"
   ]
  },
  {
   "cell_type": "code",
   "execution_count": 5,
   "id": "994f2600",
   "metadata": {},
   "outputs": [
    {
     "name": "stdout",
     "output_type": "stream",
     "text": [
      "square 4\n",
      "square 9\n",
      "square 16\n",
      "square 25\n",
      "square 36\n",
      "square 49\n",
      "[484, 1089, 3025]\n"
     ]
    }
   ],
   "source": [
    "# Creating a generator (use yield instead of return)\n",
    "def squared(data):\n",
    "    for i in data:\n",
    "        yield i**2      # Yiled Stores all result in memory to be\n",
    "                        # Used Later and don't return a single value\n",
    "    \n",
    "# squared(data=[1,2,3,4,5,6,7,8])     # This call will not give you result\n",
    "\n",
    "# This is how we use generator (getting 1 value at a time)\n",
    "for num in squared ([2,3,4,5,6,7]):\n",
    "    print(\"square\",num)\n",
    "    \n",
    "# or\n",
    "\n",
    "print(list(squared([22,33,55])))    # This caculates and convert all values\n",
    "                                    # to a list"
   ]
  },
  {
   "cell_type": "markdown",
   "id": "480494d3",
   "metadata": {},
   "source": [
    "### four ways to import a module\n",
    "\n",
    "1.import the entire module:\n",
    "\n",
    "    import Module_name\n",
    "\n",
    "2.import specific functions from a module:\n",
    "\n",
    "    from module_name import function1,function 2\n",
    "\n",
    "3.import all functions from a module:\n",
    "\n",
    "    from module_name import\n",
    "\n",
    "4.Import a module with an alias:\n",
    "\n",
    "    input module_name alias"
   ]
  },
  {
   "cell_type": "markdown",
   "id": "6fd42437",
   "metadata": {},
   "source": [
    "###  "
   ]
  },
  {
   "cell_type": "code",
   "execution_count": 10,
   "id": "b0933f91",
   "metadata": {},
   "outputs": [],
   "source": [
    "import helper"
   ]
  },
  {
   "cell_type": "code",
   "execution_count": 11,
   "id": "28cfd8d4",
   "metadata": {},
   "outputs": [
    {
     "name": "stdout",
     "output_type": "stream",
     "text": [
      "314.2857142857143\n",
      "314.2857142857143\n",
      "62.857142857142854\n"
     ]
    }
   ],
   "source": [
    "a = helper.calcAreaOfCircle(10)\n",
    "b = helper.calcAreaOfCircle(diameter=20)\n",
    "c = helper.clacCircumference(10)\n",
    "print(a,b ,c, sep='\\n')"
   ]
  },
  {
   "cell_type": "code",
   "execution_count": null,
   "id": "e1a8fc5b",
   "metadata": {},
   "outputs": [],
   "source": []
  }
 ],
 "metadata": {
  "kernelspec": {
   "display_name": "Python 3",
   "language": "python",
   "name": "python3"
  },
  "language_info": {
   "codemirror_mode": {
    "name": "ipython",
    "version": 3
   },
   "file_extension": ".py",
   "mimetype": "text/x-python",
   "name": "python",
   "nbconvert_exporter": "python",
   "pygments_lexer": "ipython3",
   "version": "3.13.6"
  }
 },
 "nbformat": 4,
 "nbformat_minor": 5
}
