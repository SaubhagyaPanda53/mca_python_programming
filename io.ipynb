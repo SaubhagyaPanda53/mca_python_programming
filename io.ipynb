{
 "cells": [
  {
   "cell_type": "code",
   "execution_count": 1,
   "id": "5bed1900",
   "metadata": {},
   "outputs": [
    {
     "name": "stdout",
     "output_type": "stream",
     "text": [
      "name\n"
     ]
    }
   ],
   "source": [
    "var = \"name\"\n",
    "print(var)"
   ]
  },
  {
   "cell_type": "code",
   "execution_count": 1,
   "id": "b5fc88b6",
   "metadata": {},
   "outputs": [
    {
     "name": "stdout",
     "output_type": "stream",
     "text": [
      "name\n"
     ]
    }
   ],
   "source": [
    "var = \"name\"\n",
    "print(var)"
   ]
  },
  {
   "cell_type": "code",
   "execution_count": 1,
   "id": "da6f9be4",
   "metadata": {},
   "outputs": [
    {
     "name": "stdout",
     "output_type": "stream",
     "text": [
      "1\n",
      "3\n",
      "5\n",
      "7\n",
      "9\n",
      "11\n",
      "13\n",
      "15\n",
      "17\n",
      "19\n"
     ]
    }
   ],
   "source": [
    "for i in range (1,20,2):\n",
    "    print(i)"
   ]
  },
  {
   "cell_type": "markdown",
   "id": "6f36a17e",
   "metadata": {},
   "source": [
    "range(5)  0 1 2 3 4\n",
    "raange(6) 0 1 2 3 4 5\n",
    "range(10,14) 10 11 12 13\n",
    "range(2,6) 2 3 4 5 \n",
    "range(1,10,2) 1 3 5 7 9\n"
   ]
  },
  {
   "cell_type": "code",
   "execution_count": 2,
   "id": "bcf8b44f",
   "metadata": {},
   "outputs": [
    {
     "name": "stdout",
     "output_type": "stream",
     "text": [
      "0\n",
      "5\n",
      "10\n"
     ]
    }
   ],
   "source": [
    "for i in range(0,15,5):\n",
    "    print(i)"
   ]
  },
  {
   "cell_type": "code",
   "execution_count": 3,
   "id": "eda0ba21",
   "metadata": {},
   "outputs": [
    {
     "name": "stdout",
     "output_type": "stream",
     "text": [
      "10\n",
      "8\n",
      "6\n",
      "4\n",
      "2\n"
     ]
    }
   ],
   "source": [
    "for i in range (10,0,-2):\n",
    "    print(i)"
   ]
  },
  {
   "cell_type": "markdown",
   "id": "baa3a3aa",
   "metadata": {},
   "source": [
    "write a program to print all even numbers between 100 to 200 ?"
   ]
  },
  {
   "cell_type": "code",
   "execution_count": 4,
   "id": "39aa61da",
   "metadata": {},
   "outputs": [
    {
     "name": "stdout",
     "output_type": "stream",
     "text": [
      "100\n",
      "102\n",
      "104\n",
      "106\n",
      "108\n",
      "110\n",
      "112\n",
      "114\n",
      "116\n",
      "118\n",
      "120\n",
      "122\n",
      "124\n",
      "126\n",
      "128\n",
      "130\n",
      "132\n",
      "134\n",
      "136\n",
      "138\n",
      "140\n",
      "142\n",
      "144\n",
      "146\n",
      "148\n",
      "150\n",
      "152\n",
      "154\n",
      "156\n",
      "158\n",
      "160\n",
      "162\n",
      "164\n",
      "166\n",
      "168\n",
      "170\n",
      "172\n",
      "174\n",
      "176\n",
      "178\n",
      "180\n",
      "182\n",
      "184\n",
      "186\n",
      "188\n",
      "190\n",
      "192\n",
      "194\n",
      "196\n",
      "198\n",
      "200\n"
     ]
    }
   ],
   "source": [
    "for i in range (100,201,2):\n",
    "    print(i)"
   ]
  },
  {
   "cell_type": "code",
   "execution_count": 7,
   "id": "75f94c22",
   "metadata": {},
   "outputs": [
    {
     "name": "stdout",
     "output_type": "stream",
     "text": [
      "['red', 'blue', 'green']\n"
     ]
    }
   ],
   "source": [
    "colors=['red','blue','green']\n",
    "print (colors)"
   ]
  },
  {
   "cell_type": "code",
   "execution_count": 9,
   "id": "9916e813",
   "metadata": {},
   "outputs": [
    {
     "name": "stdout",
     "output_type": "stream",
     "text": [
      "red\n",
      "blue\n",
      "green\n"
     ]
    }
   ],
   "source": [
    "# formated output\n",
    "for colors in colors :\n",
    "    print (colors)"
   ]
  },
  {
   "cell_type": "markdown",
   "id": "8a100b88",
   "metadata": {},
   "source": [
    "write the program to print all the od  numbers from 1 to 100 ?\n"
   ]
  },
  {
   "cell_type": "code",
   "execution_count": 11,
   "id": "494e601c",
   "metadata": {},
   "outputs": [
    {
     "name": "stdout",
     "output_type": "stream",
     "text": [
      "1,3,5,7,9,11,13,15,17,19,21,23,25,27,29,31,33,35,37,39,41,43,45,47,49,51,53,55,57,59,61,63,65,67,69,71,73,75,77,79,81,83,85,87,89,91,93,95,97,99,"
     ]
    }
   ],
   "source": [
    "for i in range (1,100,2):\n",
    "    print (i,end=\",\")"
   ]
  },
  {
   "cell_type": "code",
   "execution_count": 1,
   "id": "1b74feb7",
   "metadata": {},
   "outputs": [
    {
     "name": "stdout",
     "output_type": "stream",
     "text": [
      "\n",
      "Before swapping:\n",
      "a = 22\n",
      "b = 43\n",
      "\n",
      "After swapping:\n",
      "a = 43\n",
      "b = 22\n"
     ]
    }
   ],
   "source": [
    "\n",
    "a = input(\"Enter the first number: \")\n",
    "b = input(\"Enter the second number: \")\n",
    "\n",
    "print(\"\\nBefore swapping:\")\n",
    "print(\"a =\", a)\n",
    "print(\"b =\", b)\n",
    "\n",
    "# Swapping values\n",
    "a, b = b, a\n",
    "\n",
    "print(\"\\nAfter swapping:\")\n",
    "print(\"a =\", a)\n",
    "print(\"b =\", b)\n"
   ]
  },
  {
   "cell_type": "code",
   "execution_count": 18,
   "id": "87d581e5",
   "metadata": {},
   "outputs": [
    {
     "name": "stdout",
     "output_type": "stream",
     "text": [
      "2\n",
      "4\n",
      "6\n",
      "8\n",
      "10\n"
     ]
    }
   ],
   "source": [
    "for i in range(1,11):\n",
    "     if i %2== 0:\n",
    "         print (i)"
   ]
  },
  {
   "cell_type": "code",
   "execution_count": 19,
   "id": "29bdbb37",
   "metadata": {},
   "outputs": [
    {
     "name": "stdout",
     "output_type": "stream",
     "text": [
      "1\n",
      "3\n",
      "5\n",
      "7\n",
      "9\n"
     ]
    }
   ],
   "source": [
    "for i in range(1,11):\n",
    "    if i %2!=0:\n",
    "        print(i)"
   ]
  },
  {
   "cell_type": "code",
   "execution_count": 27,
   "id": "ded03843",
   "metadata": {},
   "outputs": [
    {
     "name": "stdout",
     "output_type": "stream",
     "text": [
      "odd number\n",
      "odd number\n",
      "odd number\n",
      "odd number\n",
      "144\n",
      "odd number\n"
     ]
    }
   ],
   "source": [
    "nums=[1,5,11,3,12,15]\n",
    "for i in nums:\n",
    "    if  i % 2==0:\n",
    "        s=i**2\n",
    "        print(s)\n",
    "    else:\n",
    "        print(\"odd number\")"
   ]
  },
  {
   "cell_type": "markdown",
   "id": "8edd6622",
   "metadata": {},
   "source": [
    "display cubes of odd nuber ?"
   ]
  },
  {
   "cell_type": "code",
   "execution_count": 28,
   "id": "39f81ac4",
   "metadata": {},
   "outputs": [
    {
     "name": "stdout",
     "output_type": "stream",
     "text": [
      "1\n",
      "27\n",
      "125\n",
      "343\n",
      "729\n"
     ]
    }
   ],
   "source": [
    "nums=[1,3,5,7,9]\n",
    "for i in nums:\n",
    "    if i % 2!=0:\n",
    "        m=i**3\n",
    "        print(m)\n",
    "    else:\n",
    "        print(\"odd number\")"
   ]
  },
  {
   "cell_type": "markdown",
   "id": "5d62fd68",
   "metadata": {},
   "source": [
    "calculate the area of circles \n",
    "whose radius is given in list \n"
   ]
  },
  {
   "cell_type": "code",
   "execution_count": 45,
   "id": "fc89e54a",
   "metadata": {},
   "outputs": [
    {
     "name": "stdout",
     "output_type": "stream",
     "text": [
      "the area for 3 is 28.26\n",
      "the area for 5 is 78.5\n",
      "the area for 6 is 113.04\n",
      "the area for 11 is 379.94\n",
      "the area for 10 is 314.0\n"
     ]
    }
   ],
   "source": [
    "radius=[3,5,6,11,10]\n",
    "for r in radius:\n",
    "    area =3.14*r**2\n",
    "    print (f\"the area for {r} is {area}\")"
   ]
  },
  {
   "cell_type": "code",
   "execution_count": 48,
   "id": "895d94aa",
   "metadata": {},
   "outputs": [
    {
     "name": "stdout",
     "output_type": "stream",
     "text": [
      "call of duty\n",
      "candy crush\n",
      "class royale \n",
      "class of clans\n",
      "cricket\n",
      "caall of duty warzone \n"
     ]
    }
   ],
   "source": [
    "videogames=['free fire ','call of duty','pubg','candy crush','class royale ','class of clans','cricket','caall of duty warzone ']\n",
    "for name in videogames:\n",
    "    if name.startswith('c'):\n",
    "        print(name)"
   ]
  },
  {
   "cell_type": "code",
   "execution_count": 2,
   "id": "67fe294f",
   "metadata": {},
   "outputs": [
    {
     "name": "stdout",
     "output_type": "stream",
     "text": [
      "10\n",
      "21\n",
      "33\n",
      "46\n",
      "60\n",
      "75\n",
      "91\n",
      "108\n",
      "126\n",
      "145\n",
      "165\n"
     ]
    }
   ],
   "source": [
    "total=0\n",
    "for num in range (10,21):\n",
    "    total=total+num\n",
    "    print(total)\n"
   ]
  },
  {
   "cell_type": "code",
   "execution_count": 5,
   "id": "3b7bd2d4",
   "metadata": {},
   "outputs": [
    {
     "name": "stdout",
     "output_type": "stream",
     "text": [
      "10\n",
      "110\n",
      "1320\n",
      "17160\n",
      "240240\n",
      "3603600\n",
      "57657600\n",
      "980179200\n",
      "17643225600\n",
      "335221286400\n",
      "6704425728000\n"
     ]
    }
   ],
   "source": [
    "total=1\n",
    "for num in range (10,21):\n",
    "    total=total*num\n",
    "    print(total)"
   ]
  },
  {
   "cell_type": "code",
   "execution_count": 9,
   "id": "e6ea3022",
   "metadata": {},
   "outputs": [
    {
     "name": "stdout",
     "output_type": "stream",
     "text": [
      "53\n"
     ]
    }
   ],
   "source": [
    "nums=[5,11,2,53,10,33]\n",
    "m=0\n",
    "for num in nums:\n",
    "    if num>m:\n",
    "     m=num\n",
    "print(m)"
   ]
  },
  {
   "cell_type": "code",
   "execution_count": 12,
   "id": "56f812c0",
   "metadata": {},
   "outputs": [
    {
     "name": "stdout",
     "output_type": "stream",
     "text": [
      "total count8\n"
     ]
    }
   ],
   "source": [
    "count=0\n",
    "nums=[25,26,27,28,29,30,31,32,33,34,35,36,37,38,39,40,41,42,43,44,45,46,47,48,49,50]\n",
    "for num in nums:\n",
    "    if num % 3 == 0:\n",
    "        count=count+1\n",
    "print(f\"total count{count}\")"
   ]
  },
  {
   "cell_type": "code",
   "execution_count": 5,
   "id": "f651330c",
   "metadata": {},
   "outputs": [
    {
     "name": "stdout",
     "output_type": "stream",
     "text": [
      "count 8\n"
     ]
    }
   ],
   "source": [
    "movies=[\"Harry Potter 1\",\"Harry Potter 2\",\"Harry Potter 3\",\"Harry Potter 4\",\"Harry Potter 5\",\"Harry Potter 6\",\"Harry Potter 7\",\"Harry Potter 8\",\"Fastand Furious 1\",\"Fastand Furious 2\",\"Fastand Furious 3\",\"Fastand Furious 4\"]\n",
    "movies_with_h= 0\n",
    "for movie in movies:\n",
    "    if movie.startswith(\"H\") or movie.startswith(\"h\"):\n",
    "        movies_with_h +=1\n",
    "print(\"count\",movies_with_h)"
   ]
  },
  {
   "cell_type": "code",
   "execution_count": 8,
   "id": "b6005411",
   "metadata": {},
   "outputs": [
    {
     "name": "stdout",
     "output_type": "stream",
     "text": [
      "8*1\n",
      "7*8\n",
      "6*56\n",
      "5*336\n",
      "4*1680\n",
      "3*6720\n",
      "2*20160\n",
      "1*40320\n",
      "40320\n"
     ]
    }
   ],
   "source": [
    "#factorial\n",
    "num =8\n",
    "fact = 1\n",
    "for i in range(num,0,-1):\n",
    "    print(f'{i}*{fact}')\n",
    "    fact=fact*i\n",
    "print(fact)"
   ]
  },
  {
   "cell_type": "markdown",
   "id": "366351e0",
   "metadata": {},
   "source": [
    "### NESTED LOOP\n",
    "for loop:\n",
    "    for loop:\n",
    "        for loop:\n",
    "        "
   ]
  },
  {
   "cell_type": "code",
   "execution_count": 12,
   "id": "c2d30c63",
   "metadata": {},
   "outputs": [
    {
     "name": "stdout",
     "output_type": "stream",
     "text": [
      "i = 1,j = 1\n",
      "i = 1,j = 2\n",
      "i = 1,j = 3\n",
      "i = 1,j = 4\n",
      "i = 1,j = 5\n",
      "i = 2,j = 1\n",
      "i = 2,j = 2\n",
      "i = 2,j = 3\n",
      "i = 2,j = 4\n",
      "i = 2,j = 5\n",
      "i = 3,j = 1\n",
      "i = 3,j = 2\n",
      "i = 3,j = 3\n",
      "i = 3,j = 4\n",
      "i = 3,j = 5\n",
      "i = 4,j = 1\n",
      "i = 4,j = 2\n",
      "i = 4,j = 3\n",
      "i = 4,j = 4\n",
      "i = 4,j = 5\n",
      "i = 5,j = 1\n",
      "i = 5,j = 2\n",
      "i = 5,j = 3\n",
      "i = 5,j = 4\n",
      "i = 5,j = 5\n",
      "i = 6,j = 1\n",
      "i = 6,j = 2\n",
      "i = 6,j = 3\n",
      "i = 6,j = 4\n",
      "i = 6,j = 5\n",
      "i = 7,j = 1\n",
      "i = 7,j = 2\n",
      "i = 7,j = 3\n",
      "i = 7,j = 4\n",
      "i = 7,j = 5\n",
      "i = 8,j = 1\n",
      "i = 8,j = 2\n",
      "i = 8,j = 3\n",
      "i = 8,j = 4\n",
      "i = 8,j = 5\n",
      "i = 9,j = 1\n",
      "i = 9,j = 2\n",
      "i = 9,j = 3\n",
      "i = 9,j = 4\n",
      "i = 9,j = 5\n",
      "i = 10,j = 1\n",
      "i = 10,j = 2\n",
      "i = 10,j = 3\n",
      "i = 10,j = 4\n",
      "i = 10,j = 5\n"
     ]
    }
   ],
   "source": [
    "for i in range(1,11):\n",
    "    for j in range(1,6):\n",
    "        print(f\"i = {i},j = {j}\")\n"
   ]
  },
  {
   "cell_type": "code",
   "execution_count": 15,
   "id": "4b97863e",
   "metadata": {},
   "outputs": [
    {
     "name": "stdout",
     "output_type": "stream",
     "text": [
      "1 1 1 1 1 \n",
      "2 2 2 2 2 \n",
      "3 3 3 3 3 \n",
      "4 4 4 4 4 \n",
      "5 5 5 5 5 \n"
     ]
    }
   ],
   "source": [
    "n = 6\n",
    "for i in range(1,n):\n",
    "    for j in range (1,n):\n",
    "        print(i , end=' ')\n",
    "    print()"
   ]
  },
  {
   "cell_type": "code",
   "execution_count": null,
   "id": "73908f89",
   "metadata": {},
   "outputs": [
    {
     "name": "stdout",
     "output_type": "stream",
     "text": [
      "12345\n",
      "12345\n",
      "12345\n",
      "12345\n",
      "12345\n"
     ]
    }
   ],
   "source": [
    "n = 6\n",
    "for i in range(1,n):\n",
    "    for j in range (1,n):\n",
    "        print(j,end='')                                      # dont change line till inner loop\n",
    "    print()                                                  # changeline for the outer loop"
   ]
  },
  {
   "cell_type": "markdown",
   "id": "8a700ad0",
   "metadata": {},
   "source": [
    "### jump statement\n",
    "-continue->to skip Step\n",
    "-break-> to stop the Loop \n",
    "  \n",
    "  always used with a condition inside the loop  \n"
   ]
  },
  {
   "cell_type": "code",
   "execution_count": 16,
   "id": "90c7afec",
   "metadata": {},
   "outputs": [
    {
     "name": "stdout",
     "output_type": "stream",
     "text": [
      "1 2 4 5 7 8 10 11 13 14 16 17 19 20 22 23 "
     ]
    }
   ],
   "source": [
    "for i in range (1,25):\n",
    "    if i%3==0:\n",
    "        continue\n",
    "    print(i , end=' ')"
   ]
  },
  {
   "cell_type": "code",
   "execution_count": null,
   "id": "0a2df94f",
   "metadata": {},
   "outputs": [],
   "source": [
    "data"
   ]
  },
  {
   "cell_type": "code",
   "execution_count": 18,
   "id": "813383ab",
   "metadata": {},
   "outputs": [
    {
     "name": "stdout",
     "output_type": "stream",
     "text": [
      "1 2 3 3 1 2 5 6 7 8 2 1 "
     ]
    }
   ],
   "source": [
    "data = [1,2,0,3,3,0,1,2,0,5,6,7,8,2,1]\n",
    "for i in data:\n",
    "    if i==0:\n",
    "        continue\n",
    "    print(i , end=' ')"
   ]
  },
  {
   "cell_type": "code",
   "execution_count": 20,
   "id": "c77a7af3",
   "metadata": {},
   "outputs": [
    {
     "name": "stdout",
     "output_type": "stream",
     "text": [
      "Enter 0 to stop the loop\n",
      "Total = 34456\n"
     ]
    }
   ],
   "source": [
    "# add all values entered by user till he types 0\n",
    "\n",
    "total = 0\n",
    "print(\"Enter 0 to stop the loop\")\n",
    "for i in range(100):\n",
    "    value = int(input(\"Enter a vlaue\"))\n",
    "    if value == 0:\n",
    "        break\n",
    "    total += value #add the value to total\n",
    "print(f\"Total = {total}\")"
   ]
  },
  {
   "cell_type": "code",
   "execution_count": 1,
   "id": "e2453ca1",
   "metadata": {},
   "outputs": [
    {
     "name": "stdout",
     "output_type": "stream",
     "text": [
      "2\n",
      "5\n",
      "8\n",
      "11\n",
      "15\n",
      "loop completed\n"
     ]
    }
   ],
   "source": [
    "nums=[2,5,8,11,15]\n",
    "for n in nums:\n",
    "    print(n)\n",
    "print(\"loop completed\")"
   ]
  },
  {
   "cell_type": "code",
   "execution_count": 4,
   "id": "c1fbcc97",
   "metadata": {},
   "outputs": [
    {
     "name": "stdout",
     "output_type": "stream",
     "text": [
      "2\n",
      "5\n",
      "8\n",
      "loop completed\n"
     ]
    }
   ],
   "source": [
    "nums=[2,5,8,11,15]\n",
    "for n in nums:\n",
    "    if n>10:\n",
    "        break\n",
    "    print(n)\n",
    "print(\"loop completed\")"
   ]
  },
  {
   "cell_type": "code",
   "execution_count": 11,
   "id": "a9b5c0e0",
   "metadata": {},
   "outputs": [
    {
     "name": "stdout",
     "output_type": "stream",
     "text": [
      "loop broken\n"
     ]
    }
   ],
   "source": [
    "value=int(input(\"enter breakpoint\"))\n",
    "nums=[1,2,3,4,5,6,11,15,20,25]\n",
    "for n in nums:\n",
    "    if value>n:\n",
    "        print(\"loop broken\")\n",
    "        break\n",
    "else:\n",
    "    print(\"loop completed\")"
   ]
  },
  {
   "cell_type": "code",
   "execution_count": 21,
   "id": "406a7ab5",
   "metadata": {},
   "outputs": [
    {
     "name": "stdout",
     "output_type": "stream",
     "text": [
      "49 not a prime number\n"
     ]
    }
   ],
   "source": [
    "num=int(input(\"enter a number\"))\n",
    "for n in range(2,num):\n",
    "    if num%n==0:\n",
    "        print(f\"{num} not a prime number\")\n",
    "        break\n",
    "\n"
   ]
  },
  {
   "cell_type": "code",
   "execution_count": 23,
   "id": "00cfeab7",
   "metadata": {},
   "outputs": [
    {
     "name": "stdout",
     "output_type": "stream",
     "text": [
      "23 is a prime number\n"
     ]
    }
   ],
   "source": [
    "num=int(input(\"enter a number\"))\n",
    "for n in range(2,num):\n",
    "    if num%n==0:\n",
    "        print(f\"{num} not a prime number\")\n",
    "        break\n",
    "else:\n",
    "    print(f\"{num} is a prime number\")"
   ]
  },
  {
   "cell_type": "code",
   "execution_count": 25,
   "id": "69cb7314",
   "metadata": {},
   "outputs": [
    {
     "name": "stdout",
     "output_type": "stream",
     "text": [
      "5045403530252015105"
     ]
    }
   ],
   "source": [
    "x=50 \n",
    "while x>0:\n",
    "    print(x,end=\"\")\n",
    "    x-=5"
   ]
  },
  {
   "cell_type": "code",
   "execution_count": 3,
   "id": "2a3867c8",
   "metadata": {},
   "outputs": [
    {
     "name": "stdout",
     "output_type": "stream",
     "text": [
      "[1, 2, 5, 10]\n",
      "[1, 2, 3, 5, 10]\n",
      "[1, 2, 3, 5, 4, 10]\n"
     ]
    }
   ],
   "source": [
    "x=[1,5,10]\n",
    "x.insert(1,2)\n",
    "print(x)\n",
    "x.insert(2,3)\n",
    "print(x)\n",
    "x.insert(4,4)\n",
    "print(x)"
   ]
  },
  {
   "cell_type": "code",
   "execution_count": 2,
   "id": "64578b2a",
   "metadata": {},
   "outputs": [
    {
     "name": "stdout",
     "output_type": "stream",
     "text": [
      "['the way of kings']\n",
      "['the way of kings', 'the name of wind', 'the final empire', 'the hero of ages', 'the wall of ascension']\n"
     ]
    }
   ],
   "source": [
    "books=[]\n",
    "books.append(\"the way of kings\")\n",
    "print(books)\n",
    "books.append(\"the name of wind\")\n",
    "books.append(\"the final empire\")\n",
    "books.append(\"the hero of ages\")\n",
    "books.append(\"the wall of ascension\")\n",
    "print(books)"
   ]
  },
  {
   "cell_type": "code",
   "execution_count": 3,
   "id": "db99a889",
   "metadata": {},
   "outputs": [
    {
     "name": "stdout",
     "output_type": "stream",
     "text": [
      "['red', 'green', 'blue', 'yellow', 'black', 'pink']\n",
      "['red', 'green', 'blue', 'yellow', 'black', 'pink', 'cyan', 'magenta', 'pink']\n"
     ]
    }
   ],
   "source": [
    "colors=[\"red\",\"green\",\"blue\",\"yellow\"]\n",
    "colors.extend([\"black\",\"pink\"])\n",
    "print(colors)\n",
    "colors1=[\"cyan\",\"magenta\",\"pink\"]\n",
    "colors.extend(colors1)\n",
    "print(colors)\n"
   ]
  },
  {
   "cell_type": "code",
   "execution_count": 5,
   "id": "58818053",
   "metadata": {},
   "outputs": [
    {
     "name": "stdout",
     "output_type": "stream",
     "text": [
      "[1, 2, 3, 4, 5, 6, 7, 8, 9, 10]\n"
     ]
    }
   ],
   "source": [
    "a=[]\n",
    "for i in range(1,11):\n",
    "    a.append(i)\n",
    "print(a)"
   ]
  },
  {
   "cell_type": "code",
   "execution_count": 6,
   "id": "13ad53c9",
   "metadata": {},
   "outputs": [
    {
     "name": "stdout",
     "output_type": "stream",
     "text": [
      "['rrr', 'errr', 'rttt', 'r', '', '']\n"
     ]
    }
   ],
   "source": [
    "movies=[]\n",
    "for i in range(6):\n",
    "    movie=input(\"enter the movie name:\")\n",
    "    movies.append(movie)\n",
    "print(movies)"
   ]
  },
  {
   "cell_type": "code",
   "execution_count": 7,
   "id": "33f9ba07",
   "metadata": {},
   "outputs": [
    {
     "name": "stdout",
     "output_type": "stream",
     "text": [
      "<class 'list'> []\n",
      "[1, 2, 3, 4, 5]\n",
      "['Apple', 'Banana', 'Mango']\n",
      "[1, 2, 3, 4, 5, 6]\n",
      "[1, 1, 1, 1, 1, 1, 1, 1, 1, 1]\n",
      "[1, 2, 1, 2, 1, 2, 1, 2, 1, 2]\n",
      "[1, 1, 1, 1, 1, 1, 1, 1, 1, 1]\n",
      "[1, 1, 1, 1, 1, 1, 1, 1, 1, 1, 1, 1, 1, 1, 1, 1, 1, 1, 1, 1]\n",
      "[1, 1, 1, 1, 1, 1, 1, 1, 1, 1]\n",
      "1111111111Apple\n",
      "Banana Mango\n"
     ]
    }
   ],
   "source": [
    "x=[]#Empty\n",
    "x=list()#empty\n",
    "print(type(x),x)\n",
    "y=[1,2,3,4,5]# Direct Initialization\n",
    "print(y)\n",
    "fruits=[]\n",
    "fruits.append('Apple')\n",
    "fruits.append('Banana')\n",
    "fruits.append('Mango')\n",
    "print(fruits)\n",
    "x=[1,2,3]\n",
    "y=[4,5,6]\n",
    "z=x+y #Concatinate list\n",
    "print(z)\n",
    "#list of Duplicates\n",
    "a=[1]*10\n",
    "print(a)\n",
    "b=[1,2]*5\n",
    "print(b)\n",
    "c=a*2\n",
    "print(a)\n",
    "print(c)\n",
    "#Displaying\n",
    "print(a)\n",
    "#displaying Single item at a time\n",
    "for item in a:\n",
    "    print(item,end=\"\")\n",
    "#single element using index\n",
    "print(fruits[0])\n",
    "print(fruits[1],fruits[2])"
   ]
  },
  {
   "cell_type": "code",
   "execution_count": 9,
   "id": "22f6f012",
   "metadata": {},
   "outputs": [
    {
     "name": "stdout",
     "output_type": "stream",
     "text": [
      "['Bhargav', 'Sameer', 'Yaswanth', 'Vamsi', 'Ram', 'Ajay', 'Balaji', 'Abhi', 'Ruhi', 'Varsha', 'Sumithra', 'Jyoshna', 'Meghana', 'Anjali', 'Sirisha', 'Sahiti', 'Geetha']\n",
      "Varsha\n",
      "['Bhargav', 'Sameer', 'Yaswanth', 'Vamsi', 'Ram', 'Ajay', 'Balaji', 'Abhi', 'Ruhi', 'Varsha', 'Sumithra', 'Jyoshna', 'Meghana', 'Anjali', 'Sirisha', 'Sahiti', 'Geetha', 'Sampath']\n",
      "['Bhargav', 'Sameer', 'Yaswanth', 'Vamsi', 'Ajay', 'Balaji', 'Abhi', 'Ruhi', 'Varsha', 'Sumithra', 'Jyoshna', 'Meghana', 'Anjali', 'Sirisha', 'Sahiti', 'Geetha', 'Sampath']\n"
     ]
    }
   ],
   "source": [
    "students=[\"Bhargav\",\"Sameer\",\"Yaswanth\",\"Vamsi\",\"Ram\",\"Ajay\",\"Balaji\",\"Abhi\",\"Ruhi\",\"Varsha\",\"Sumithra\",\"Jyoshna\",\"Meghana\",\"Anjali\",\"Sirisha\",\"Sahiti\",\"Geetha\"]\n",
    "print(students)\n",
    "print(students[9])\n",
    "students.append(\"Sampath\")\n",
    "print(students)\n",
    "students.pop(4)\n",
    "print(students)"
   ]
  },
  {
   "cell_type": "markdown",
   "id": "ea33ff15",
   "metadata": {},
   "source": [
    "# list methods \n",
    "* adding elements\n",
    "1. append() ->add one element to the end of list\n",
    "2. insert() ->add one element to the specific position \n",
    "3. extend() ->append multiple items in list \n"
   ]
  },
  {
   "cell_type": "markdown",
   "id": "bd1eeeb1",
   "metadata": {},
   "source": [
    "* removing elements \n",
    "1. remove() -> remove the first occurance of a value \n",
    "2. pop()-> remove and return an element from ana index \n",
    "3. clear()-> remove all the elements from the list "
   ]
  },
  {
   "cell_type": "markdown",
   "id": "60bf1d82",
   "metadata": {},
   "source": [
    "* utility methods \n",
    "1. count()-> count occurance ofa an element \n",
    "2. index()-> find index of an element (first only)\n",
    "3. sort()-> sort of the list \n",
    "4. reverse ()-> reverse the list \n",
    "5. copy()-> return a shallow copy of the list \n"
   ]
  },
  {
   "cell_type": "code",
   "execution_count": 16,
   "id": "68fbce9f",
   "metadata": {},
   "outputs": [],
   "source": [
    "books=['hero of ages','well of acsension','warbreaker',\n",
    "       'nightblood','the final empire',\n",
    "       'the way of kinds',\n",
    "       'oathbringer','wind and truth',\n",
    "       'harry porter and goblet of fire'\n",
    "       ,'new moon','king of thrones']"
   ]
  },
  {
   "cell_type": "code",
   "execution_count": 17,
   "id": "d3845f02",
   "metadata": {},
   "outputs": [
    {
     "name": "stdout",
     "output_type": "stream",
     "text": [
      "size of books list  11\n"
     ]
    }
   ],
   "source": [
    "print(\"size of books list \",len(books))\n"
   ]
  },
  {
   "cell_type": "code",
   "execution_count": 18,
   "id": "ef93a51e",
   "metadata": {},
   "outputs": [
    {
     "name": "stdout",
     "output_type": "stream",
     "text": [
      "['hero of ages', 'well of acsension', 'warbreaker', 'nightblood', 'the final empire', 'the way of kinds', 'oathbringer', 'wind and truth', 'harry porter and goblet of fire', 'king of thrones']\n"
     ]
    }
   ],
   "source": [
    "books.remove(\"new moon\")\n",
    "print(books)"
   ]
  },
  {
   "cell_type": "code",
   "execution_count": 19,
   "id": "d4a19c8e",
   "metadata": {},
   "outputs": [
    {
     "name": "stdout",
     "output_type": "stream",
     "text": [
      "['hero of ages', 'well of acsension', 'warbreaker', 'nightblood', 'the final empire', 'the way of kinds', 'wind and truth', 'harry porter and goblet of fire', 'king of thrones']\n"
     ]
    }
   ],
   "source": [
    "if \"oathbringer\" in books :\n",
    "    books.remove(\"oathbringer\")\n",
    "print(books)"
   ]
  },
  {
   "cell_type": "code",
   "execution_count": 20,
   "id": "a1fd9a18",
   "metadata": {},
   "outputs": [
    {
     "data": {
      "text/plain": [
       "'nightblood'"
      ]
     },
     "execution_count": 20,
     "metadata": {},
     "output_type": "execute_result"
    }
   ],
   "source": [
    "books.pop(3)\n"
   ]
  },
  {
   "cell_type": "code",
   "execution_count": 21,
   "id": "f6ee4589",
   "metadata": {},
   "outputs": [
    {
     "name": "stdout",
     "output_type": "stream",
     "text": [
      "['hero of ages', 'well of acsension', 'warbreaker', 'the final empire', 'the way of kinds', 'wind and truth', 'harry porter and goblet of fire', 'king of thrones']\n",
      "8\n"
     ]
    }
   ],
   "source": [
    "print(books)\n",
    "print(len(books))"
   ]
  },
  {
   "cell_type": "code",
   "execution_count": 22,
   "id": "5fbf69ba",
   "metadata": {},
   "outputs": [
    {
     "data": {
      "text/plain": [
       "'king of thrones'"
      ]
     },
     "execution_count": 22,
     "metadata": {},
     "output_type": "execute_result"
    }
   ],
   "source": [
    "books.pop()"
   ]
  },
  {
   "cell_type": "code",
   "execution_count": 27,
   "id": "2aef7fbd",
   "metadata": {},
   "outputs": [],
   "source": [
    "languages=['c','python','kotlin','java','dart','go','c++','c#','html','javascript','scala','rust','mojo','assembly']\n",
    "numbers=['12','56','23','67','13',\n",
    "         '23','12','56','23','56',\n",
    "         '12','34','23','23','12',\n",
    "         '34','34','23','53','92']\n",
    "data=[1,'apple',2,'avacado',3,'apricot']"
   ]
  },
  {
   "cell_type": "code",
   "execution_count": 29,
   "id": "62257ac4",
   "metadata": {},
   "outputs": [
    {
     "data": {
      "text/plain": [
       "4"
      ]
     },
     "execution_count": 29,
     "metadata": {},
     "output_type": "execute_result"
    }
   ],
   "source": [
    "numbers.count('12')"
   ]
  },
  {
   "cell_type": "code",
   "execution_count": 31,
   "id": "db464faf",
   "metadata": {},
   "outputs": [
    {
     "name": "stdout",
     "output_type": "stream",
     "text": [
      "0\n",
      "6\n",
      "3\n"
     ]
    }
   ],
   "source": [
    "print(numbers.count('1'))\n",
    "print(numbers.count('23'))\n",
    "print(numbers.count('56'))"
   ]
  },
  {
   "cell_type": "code",
   "execution_count": 32,
   "id": "fc309c5a",
   "metadata": {},
   "outputs": [
    {
     "data": {
      "text/plain": [
       "7"
      ]
     },
     "execution_count": 32,
     "metadata": {},
     "output_type": "execute_result"
    }
   ],
   "source": [
    "languages.index('c#')"
   ]
  },
  {
   "cell_type": "code",
   "execution_count": 34,
   "id": "4cf8f9f0",
   "metadata": {},
   "outputs": [
    {
     "name": "stdout",
     "output_type": "stream",
     "text": [
      "0\n",
      "3\n",
      "1\n"
     ]
    }
   ],
   "source": [
    "print(languages.index('c'))\n",
    "print(languages.index('java'))\n",
    "print(languages.index('python'))"
   ]
  },
  {
   "cell_type": "code",
   "execution_count": 36,
   "id": "f2d790b3",
   "metadata": {},
   "outputs": [
    {
     "name": "stdout",
     "output_type": "stream",
     "text": [
      "original ['assembly', 'c', 'c#', 'c++', 'dart', 'go', 'html', 'java', 'javascript', 'kotlin', 'mojo', 'python', 'rust', 'scala']\n",
      "sorted ['assembly', 'c', 'c#', 'c++', 'dart', 'go', 'html', 'java', 'javascript', 'kotlin', 'mojo', 'python', 'rust', 'scala']\n",
      "sorted in reverse ['scala', 'rust', 'python', 'mojo', 'kotlin', 'javascript', 'java', 'html', 'go', 'dart', 'c++', 'c#', 'c', 'assembly']\n"
     ]
    }
   ],
   "source": [
    "print(\"original\",languages)\n",
    "languages.sort()\n",
    "print(\"sorted\",languages)\n",
    "languages.sort(reverse=True)\n",
    "print(\"sorted in reverse\",languages)"
   ]
  },
  {
   "cell_type": "code",
   "execution_count": 37,
   "id": "89a8e387",
   "metadata": {},
   "outputs": [
    {
     "name": "stdout",
     "output_type": "stream",
     "text": [
      "original [1, 'apple', 2, 'avacado', 3, 'apricot']\n",
      "reversed ['apricot', 3, 'avacado', 2, 'apple', 1]\n"
     ]
    }
   ],
   "source": [
    "print(\"original\",data)\n",
    "data.reverse()\n",
    "print(\"reversed\",data)"
   ]
  },
  {
   "cell_type": "code",
   "execution_count": 3,
   "id": "68e4e13f",
   "metadata": {},
   "outputs": [
    {
     "name": "stdout",
     "output_type": "stream",
     "text": [
      "vijay deenanth  chavhan\n"
     ]
    }
   ],
   "source": [
    "name=\"vijay deenanth chavhan\"\n",
    "fname=name[:5]\n",
    "mname=name[6:15]\n",
    "lname=name[-7:]\n",
    "print(fname,mname,lname)"
   ]
  },
  {
   "cell_type": "code",
   "execution_count": 4,
   "id": "3ae000de",
   "metadata": {},
   "outputs": [
    {
     "name": "stdout",
     "output_type": "stream",
     "text": [
      "13\n",
      "11\n",
      "9\n",
      "7\n",
      "6\n",
      "4\n",
      "3\n",
      "2\n",
      "1\n"
     ]
    }
   ],
   "source": [
    "x=[1,2,3,4,6,7,9,11,13]\n",
    "for item in x[::-1]:\n",
    "    print(item)"
   ]
  },
  {
   "cell_type": "code",
   "execution_count": 7,
   "id": "5060287f",
   "metadata": {},
   "outputs": [
    {
     "data": {
      "text/plain": [
       "[1, 2, 3]"
      ]
     },
     "execution_count": 7,
     "metadata": {},
     "output_type": "execute_result"
    }
   ],
   "source": [
    "a=[1,2,3]\n",
    "a[:]       #get all element "
   ]
  },
  {
   "cell_type": "code",
   "execution_count": 8,
   "id": "01aa1548",
   "metadata": {},
   "outputs": [
    {
     "name": "stdout",
     "output_type": "stream",
     "text": [
      "[1, 2, 3, 4, 5] [3, 4, 5, 1, 2]\n"
     ]
    }
   ],
   "source": [
    "x=[1,2,3,4,5]\n",
    "ans=x[2:]+x[:2]\n",
    "print(x,ans)"
   ]
  },
  {
   "cell_type": "code",
   "execution_count": 9,
   "id": "9683be4f",
   "metadata": {},
   "outputs": [
    {
     "name": "stdout",
     "output_type": "stream",
     "text": [
      "[1, 3, 4, 5] [2, 6, 8, 10]\n"
     ]
    }
   ],
   "source": [
    "x=[1,3,4,5]\n",
    "x2=[]\n",
    "for i in x:\n",
    "    s=i*2\n",
    "    x2.append(s)\n",
    "print(x,x2)\n"
   ]
  },
  {
   "cell_type": "code",
   "execution_count": 10,
   "id": "9c7be6d3",
   "metadata": {},
   "outputs": [
    {
     "name": "stdout",
     "output_type": "stream",
     "text": [
      "[4, 8, 12, 16] [2, 4, 6, 8]\n"
     ]
    }
   ],
   "source": [
    "x=[4,8,12,16]\n",
    "x3=[]\n",
    "for i in x:\n",
    "    x3.append(i//2)\n",
    "print(x,x3)"
   ]
  },
  {
   "cell_type": "code",
   "execution_count": 11,
   "id": "e12891de",
   "metadata": {},
   "outputs": [
    {
     "name": "stdout",
     "output_type": "stream",
     "text": [
      "[1, 2, 3]\n",
      "[4, 5, 6]\n",
      "[5, 7, 9]\n"
     ]
    }
   ],
   "source": [
    "x=[1,2,3]\n",
    "y=[4,5,6]\n",
    "xy=[]\n",
    "for i,j in zip(x,y):\n",
    "    xy.append(i+j)\n",
    "print(x,y,xy,sep='\\n')\n",
    "    \n",
    " "
   ]
  },
  {
   "cell_type": "code",
   "execution_count": 12,
   "id": "945d2c1e",
   "metadata": {},
   "outputs": [
    {
     "name": "stdout",
     "output_type": "stream",
     "text": [
      "[4, 9, 16]\n"
     ]
    }
   ],
   "source": [
    "z=[2,3,4]\n",
    "zsqr=[]\n",
    "for i in z:\n",
    "    zsqr.append(i**2)\n",
    "print(zsqr)\n"
   ]
  },
  {
   "cell_type": "code",
   "execution_count": 13,
   "id": "e4f059cb",
   "metadata": {},
   "outputs": [
    {
     "name": "stdout",
     "output_type": "stream",
     "text": [
      "[8, 27, 64]\n"
     ]
    }
   ],
   "source": [
    "z=[2,3,4]\n",
    "zsqr=[]\n",
    "for i in z:\n",
    "    zsqr.append(i**3)\n",
    "print(zsqr)\n"
   ]
  },
  {
   "cell_type": "markdown",
   "id": "29592390",
   "metadata": {},
   "source": [
    "newlist=[operation for loop]\n",
    "example:\n",
    "x2=[i**2 for loop]\n",
    "y3=[a**3 for a in y]\n",
    "condition baased \n",
    "newlist=[operation loop condition] \n",
    "example \n",
    "xeven =[i for i in if i%2=0]\n",
    "songs=[file for file in data if file.ends with (\"mp3\")]\n",
    "\n"
   ]
  },
  {
   "cell_type": "markdown",
   "id": "961e606a",
   "metadata": {},
   "source": [
    "MAPPING\n",
    "-> apply operation on data \n",
    "filtering \n",
    "->apply filter on data"
   ]
  },
  {
   "cell_type": "code",
   "execution_count": 1,
   "id": "01dc1b4e",
   "metadata": {},
   "outputs": [
    {
     "name": "stdout",
     "output_type": "stream",
     "text": [
      "(1, 2, 3)\n"
     ]
    }
   ],
   "source": [
    "my_tupple=(1,2,3)\n",
    "print(my_tupple)"
   ]
  },
  {
   "cell_type": "code",
   "execution_count": 5,
   "id": "c4372091",
   "metadata": {},
   "outputs": [
    {
     "name": "stdout",
     "output_type": "stream",
     "text": [
      "(1, 'hello', 3.4)\n"
     ]
    }
   ],
   "source": [
    "my_tuple=(1,\"hello\",3.4)\n",
    "print(my_tuple)"
   ]
  },
  {
   "cell_type": "code",
   "execution_count": 7,
   "id": "046ae6f7",
   "metadata": {},
   "outputs": [
    {
     "name": "stdout",
     "output_type": "stream",
     "text": [
      "('mouse', [8, 4, 6], [1, 2, 3])\n"
     ]
    }
   ],
   "source": [
    "my_tuple=(\"mouse\",[8,4,6],[1,2,3])\n",
    "print(my_tuple)"
   ]
  },
  {
   "cell_type": "code",
   "execution_count": 8,
   "id": "90a8deb7",
   "metadata": {},
   "outputs": [
    {
     "name": "stdout",
     "output_type": "stream",
     "text": [
      "(3, 4.6, 'apple')\n"
     ]
    }
   ],
   "source": [
    "my_tuple=3,4.6,'apple'\n",
    "print(my_tuple)"
   ]
  },
  {
   "cell_type": "code",
   "execution_count": 9,
   "id": "06b9ee3a",
   "metadata": {},
   "outputs": [
    {
     "name": "stdout",
     "output_type": "stream",
     "text": [
      "p\n",
      "m\n"
     ]
    }
   ],
   "source": [
    "my_tuple=('p','q','r','s','t','m')\n",
    "print(my_tuple[0])\n",
    "print(my_tuple[5])"
   ]
  },
  {
   "cell_type": "code",
   "execution_count": 11,
   "id": "8dfd3987",
   "metadata": {},
   "outputs": [
    {
     "name": "stdout",
     "output_type": "stream",
     "text": [
      "s\n",
      "4\n"
     ]
    }
   ],
   "source": [
    "my_tuple=(\"mouse\",[8,4,6],(1,2,3))\n",
    "print(my_tuple[0][3])\n",
    "print(my_tuple[1][1])"
   ]
  },
  {
   "cell_type": "code",
   "execution_count": null,
   "id": "55d9c14e",
   "metadata": {},
   "outputs": [],
   "source": [
    "my_tuple=('e','r',)"
   ]
  },
  {
   "cell_type": "code",
   "execution_count": 12,
   "id": "285604af",
   "metadata": {},
   "outputs": [
    {
     "name": "stdout",
     "output_type": "stream",
     "text": [
      "(1, 2, 3, 4, 5, 6)\n"
     ]
    }
   ],
   "source": [
    "print((1,2,3,)+(4,5,6))"
   ]
  },
  {
   "cell_type": "code",
   "execution_count": 13,
   "id": "c769263a",
   "metadata": {},
   "outputs": [
    {
     "name": "stdout",
     "output_type": "stream",
     "text": [
      "('repeat', 'repeat', 'repeat')\n"
     ]
    }
   ],
   "source": [
    "print((\"repeat\",)*3)"
   ]
  },
  {
   "cell_type": "code",
   "execution_count": 15,
   "id": "3c1078af",
   "metadata": {},
   "outputs": [
    {
     "name": "stdout",
     "output_type": "stream",
     "text": [
      "1\n",
      "2\n"
     ]
    }
   ],
   "source": [
    "my_tuple=('a','b','c','d','e')\n",
    "print(my_tuple.count('d'))\n",
    "print(my_tuple.index('c'))"
   ]
  }
 ],
 "metadata": {
  "kernelspec": {
   "display_name": "Python 3",
   "language": "python",
   "name": "python3"
  },
  "language_info": {
   "codemirror_mode": {
    "name": "ipython",
    "version": 3
   },
   "file_extension": ".py",
   "mimetype": "text/x-python",
   "name": "python",
   "nbconvert_exporter": "python",
   "pygments_lexer": "ipython3",
   "version": "3.13.6"
  }
 },
 "nbformat": 4,
 "nbformat_minor": 5
}
