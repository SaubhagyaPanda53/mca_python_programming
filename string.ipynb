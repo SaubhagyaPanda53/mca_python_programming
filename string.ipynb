{
 "cells": [
  {
   "cell_type": "markdown",
   "id": "9524b125",
   "metadata": {},
   "source": [
    "# string utility method "
   ]
  },
  {
   "cell_type": "code",
   "execution_count": 1,
   "id": "daed4470",
   "metadata": {},
   "outputs": [
    {
     "name": "stdout",
     "output_type": "stream",
     "text": [
      "once upon a time twice upon a time\n",
      "onci upon a timi\n"
     ]
    }
   ],
   "source": [
    "s= \"once upon a time\"\n",
    "s2=s. replace ('once','twice')\n",
    "print (s,s2)\n",
    "s3=s.replace('e','i')\n",
    "print(s3)"
   ]
  },
  {
   "cell_type": "markdown",
   "id": "f0915ded",
   "metadata": {},
   "source": [
    "# replace for removing content\n"
   ]
  },
  {
   "cell_type": "code",
   "execution_count": 7,
   "id": "0be93987",
   "metadata": {},
   "outputs": [
    {
     "name": "stdout",
     "output_type": "stream",
     "text": [
      "py#t#h#o#n\n",
      "python\n"
     ]
    }
   ],
   "source": [
    "data ='py#t#h#o#n'\n",
    "cleared_data=data.replace('#','')\n",
    "print(data,cleared_data,sep='\\n')"
   ]
  },
  {
   "cell_type": "markdown",
   "id": "defa60b2",
   "metadata": {},
   "source": [
    "# find/index"
   ]
  },
  {
   "cell_type": "code",
   "execution_count": 8,
   "id": "a7874b37",
   "metadata": {},
   "outputs": [
    {
     "name": "stdout",
     "output_type": "stream",
     "text": [
      "7\n",
      "-1\n",
      "2\n",
      "3\n",
      "13\n"
     ]
    }
   ],
   "source": [
    "m=\"alpine mountain range\"\n",
    "print(m.find('mountain'))\n",
    "print(m.find('lion'))\n",
    "print(m.find('pine'))\n",
    "print(m.find('i'))\n",
    "print(m.find('i',4))\n",
    "\n"
   ]
  },
  {
   "cell_type": "code",
   "execution_count": 20,
   "id": "313c5e7d",
   "metadata": {},
   "outputs": [
    {
     "name": "stdout",
     "output_type": "stream",
     "text": [
      "life before death\n",
      "courage before despair ,\n",
      "journey before destination\n",
      "['life', 'before', 'death', 'courage', 'before', 'despair', ',', 'journey', 'before', 'destination']\n"
     ]
    }
   ],
   "source": [
    "quote= \"\"\"life before death\n",
    "courage before despair ,\n",
    "journey before destination\"\"\"\n",
    "word=quote.split()\n",
    "print (quote)\n",
    "print(word)"
   ]
  },
  {
   "cell_type": "code",
   "execution_count": 21,
   "id": "9dbfa623",
   "metadata": {},
   "outputs": [
    {
     "name": "stdout",
     "output_type": "stream",
     "text": [
      "['MBU', 'Sree sainath nagar', 'Tirupati', 'AP', '517102']\n",
      "MBU,Sree sainath nagar,Tirupati,AP,517102\n",
      "MBU-Sree sainath nagar-Tirupati-AP-517102\n",
      "MBU\n",
      "Sree sainath nagar\n",
      "Tirupati\n",
      "AP\n",
      "517102\n",
      "MBUWhatSree sainath nagarWhatTirupatiWhatAPWhat517102\n"
     ]
    }
   ],
   "source": [
    "addr = ['MBU','Sree sainath nagar','Tirupati','AP','517102']\n",
    "addr_str = \",\".join(addr)\n",
    "print(addr,addr_str,sep='\\n')\n",
    "addr2 = '-'.join(addr)\n",
    "addr3 = '\\n'.join(addr)\n",
    "addr4 = 'What'.join(addr)\n",
    "print(addr2,addr3,addr4,sep='\\n') "
   ]
  },
  {
   "cell_type": "markdown",
   "id": "9c678cda",
   "metadata": {},
   "source": [
    "# functions and modules\n",
    "function are two times user defined and predefined "
   ]
  },
  {
   "cell_type": "code",
   "execution_count": 7,
   "id": "95a6d1de",
   "metadata": {},
   "outputs": [
    {
     "name": "stdout",
     "output_type": "stream",
     "text": [
      "even\n"
     ]
    }
   ],
   "source": [
    "n=input(\"enter the value\")\n",
    "if int(n)%2==0:\n",
    "    print('even')\n",
    "else:\n",
    "    print('odd')"
   ]
  },
  {
   "cell_type": "code",
   "execution_count": 1,
   "id": "5241ae49",
   "metadata": {},
   "outputs": [],
   "source": [
    "def total(a,b,c):\n",
    "    ans = a + b +c\n",
    "    print(f'total =(ans)')"
   ]
  },
  {
   "cell_type": "code",
   "execution_count": 2,
   "id": "82cb1ce5",
   "metadata": {},
   "outputs": [],
   "source": [
    "def msg():\n",
    "    print(\"hello\")"
   ]
  },
  {
   "cell_type": "code",
   "execution_count": 5,
   "id": "863507b1",
   "metadata": {},
   "outputs": [],
   "source": [
    "def mul(a,b):\n",
    "    print(a*b)\n",
    "    "
   ]
  },
  {
   "cell_type": "code",
   "execution_count": 8,
   "id": "6a5d620b",
   "metadata": {},
   "outputs": [
    {
     "name": "stdout",
     "output_type": "stream",
     "text": [
      "6\n",
      "2625\n",
      "45\n"
     ]
    },
    {
     "ename": "TypeError",
     "evalue": "mul() missing 2 required positional arguments: 'a' and 'b'",
     "output_type": "error",
     "traceback": [
      "\u001b[31m---------------------------------------------------------------------------\u001b[39m",
      "\u001b[31mTypeError\u001b[39m                                 Traceback (most recent call last)",
      "\u001b[36mCell\u001b[39m\u001b[36m \u001b[39m\u001b[32mIn[8]\u001b[39m\u001b[32m, line 4\u001b[39m\n\u001b[32m      2\u001b[39m mul(\u001b[32m15\u001b[39m, \u001b[32m175\u001b[39m)\n\u001b[32m      3\u001b[39m mul(\u001b[32m3\u001b[39m,\u001b[32m15\u001b[39m)\n\u001b[32m----> \u001b[39m\u001b[32m4\u001b[39m \u001b[43mmul\u001b[49m\u001b[43m(\u001b[49m\u001b[43m)\u001b[49m\n\u001b[32m      5\u001b[39m mul(\u001b[32m10\u001b[39m)\n\u001b[32m      6\u001b[39m mul(\u001b[33m'\u001b[39m\u001b[33ma\u001b[39m\u001b[33m'\u001b[39m,\u001b[33m'\u001b[39m\u001b[33mb\u001b[39m\u001b[33m'\u001b[39m)\n",
      "\u001b[31mTypeError\u001b[39m: mul() missing 2 required positional arguments: 'a' and 'b'"
     ]
    }
   ],
   "source": [
    "mul(2,3)\n",
    "mul(15, 175)\n",
    "mul(3,15)\n",
    "mul()\n",
    "mul(10)\n",
    "mul('a','b')"
   ]
  },
  {
   "cell_type": "code",
   "execution_count": 12,
   "id": "027b758e",
   "metadata": {},
   "outputs": [],
   "source": [
    "import math\n",
    "def hyp(p,b):\n",
    "    ans=math.sqrt(p**2 + b**2)\n",
    "    return ans"
   ]
  },
  {
   "cell_type": "code",
   "execution_count": 14,
   "id": "7b2640cc",
   "metadata": {},
   "outputs": [
    {
     "data": {
      "text/plain": [
       "11.180339887498949"
      ]
     },
     "execution_count": 14,
     "metadata": {},
     "output_type": "execute_result"
    }
   ],
   "source": [
    "hyp(10,5)"
   ]
  },
  {
   "cell_type": "code",
   "execution_count": 21,
   "id": "0e47341b",
   "metadata": {},
   "outputs": [],
   "source": [
    "def is_even(num):\n",
    "    if num%2 == 0:\n",
    "        return True\n",
    "    else:\n",
    "        return False\n"
   ]
  },
  {
   "cell_type": "code",
   "execution_count": 22,
   "id": "227e1a05",
   "metadata": {},
   "outputs": [
    {
     "data": {
      "text/plain": [
       "True"
      ]
     },
     "execution_count": 22,
     "metadata": {},
     "output_type": "execute_result"
    }
   ],
   "source": [
    "is_even(54)"
   ]
  },
  {
   "cell_type": "code",
   "execution_count": 24,
   "id": "6a59e6e3",
   "metadata": {},
   "outputs": [
    {
     "name": "stdout",
     "output_type": "stream",
     "text": [
      "Good Job\n"
     ]
    }
   ],
   "source": [
    "x = int(input(\"enter a even number\"))\n",
    "if is_even(x):\n",
    "    print('Good Job')\n",
    "else:\n",
    "    print(\"start from nursery\")"
   ]
  },
  {
   "cell_type": "code",
   "execution_count": null,
   "id": "6e928c2a",
   "metadata": {},
   "outputs": [],
   "source": []
  }
 ],
 "metadata": {
  "kernelspec": {
   "display_name": "Python 3",
   "language": "python",
   "name": "python3"
  },
  "language_info": {
   "codemirror_mode": {
    "name": "ipython",
    "version": 3
   },
   "file_extension": ".py",
   "mimetype": "text/x-python",
   "name": "python",
   "nbconvert_exporter": "python",
   "pygments_lexer": "ipython3",
   "version": "3.13.6"
  }
 },
 "nbformat": 4,
 "nbformat_minor": 5
}
